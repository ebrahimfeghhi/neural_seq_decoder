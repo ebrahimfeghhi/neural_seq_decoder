{
 "cells": [
  {
   "cell_type": "code",
   "execution_count": 7,
   "metadata": {},
   "outputs": [],
   "source": [
    "all_phonemes = [\n",
    "    'AA', 'AE', 'AH', 'AO', 'AW',\n",
    "    'AY', 'B',  'CH', 'D', 'DH',\n",
    "    'EH', 'ER', 'EY', 'F', 'G',\n",
    "    'HH', 'IH', 'IY', 'JH', 'K',\n",
    "    'L', 'M', 'N', 'NG', 'OW',\n",
    "    'OY', 'P', 'R', 'S', 'SH',\n",
    "    'T', 'TH', 'UH', 'UW', 'V',\n",
    "    'W', 'Y', 'Z', 'ZH'\n",
    "]\n",
    "\n",
    "voiced = ['AA', 'AE', 'AH', 'AO', 'AW', 'AY',  # Vowels (all voiced)\n",
    "    'EH', 'ER', 'EY', 'IH', 'IY',        # Vowels (continued)\n",
    "    'OW', 'OY', 'UH', 'UW'               # Vowels (continued)\n",
    "    'B', 'D', 'DH', 'G', 'JH',          # Voiced consonants\n",
    "    'L', 'M', 'N', 'NG', 'R', 'V', 'W', # More voiced consonants\n",
    "    'Y', 'Z', 'ZH']\n",
    "\n",
    "\n",
    "manner_of_articulation = {\n",
    "    'B': 'plosive',\n",
    "    'P': 'plosive',\n",
    "    'T': 'plosive',\n",
    "    'D': 'plosive',\n",
    "    'K': 'plosive',\n",
    "    'G': 'plosive',\n",
    "    'CH': 'affricate',\n",
    "    'JH': 'affricate',\"\"\n",
    "    'F': 'fricative',\n",
    "    'V': 'fricative',\n",
    "    'S': 'fricative',\n",
    "    'Z': 'fricative',\n",
    "    'SH': 'fricative',\n",
    "    'ZH': 'fricative',\n",
    "    'TH': 'fricative',\n",
    "    'DH': 'fricative',\n",
    "    'HH': 'fricative',\n",
    "    'M': 'nasal',\n",
    "    'N': 'nasal',\n",
    "    'NG': 'nasal',\n",
    "    'L': 'approximant',\n",
    "    'R': 'approximant',\n",
    "    'W': 'approximant',\n",
    "    'Y': 'approximant'\n",
    "}\n",
    "\n",
    "place_of_articulation = {\n",
    "    'B': 'bilabial',\n",
    "    'P': 'bilabial',\n",
    "    'M': 'bilabial',\n",
    "    'W': ['bilabial', 'velear'],\n",
    "    'F': 'labiodental',\n",
    "    'V': 'labiodental',\n",
    "    'TH': 'dental',  # as in \"thin\"\n",
    "    'DH': 'dental',  # as in \"this\"\n",
    "    'T': 'alveolar',\n",
    "    'D': 'alveolar',\n",
    "    'S': 'alveolar',\n",
    "    'Z': 'alveolar',\n",
    "    'N': 'alveolar',\n",
    "    'L': 'alveolar',\n",
    "    'R': 'alveolar',\n",
    "    'SH': 'post-alveolar',\n",
    "    'ZH': 'post-alveolar',  # as in \"measure\"\n",
    "    'CH': 'palatal',\n",
    "    'JH': 'palatal',\n",
    "    'Y': 'palatal',\n",
    "    'K': 'velar',\n",
    "    'G': 'velar',\n",
    "    'NG': 'velar',\n",
    "    'HH': 'glottal',\n",
    "}\n",
    "\n",
    "vowel_height = {\n",
    "    \"IY\": \"high\",  # as in \"beat\"\n",
    "    \"IH\": \"high\",  # as in \"bit\"\n",
    "    \"UH\": \"high\",  # as in \"foot\"\n",
    "    \"UW\": \"high\",  # as in \"goose\"\n",
    "    \"ER\": \"mid\",   # as in \"nurse\" (rhotic)\n",
    "    \"AH\": \"mid\",   # as in \"strut\"\n",
    "    \"AO\": \"mid\",   # as in \"thought\"\n",
    "    \"EH\": \"mid\",   # as in \"bet\"\n",
    "    \"AE\": \"low\",   # as in \"bat\"\n",
    "    \"AA\": \"low\",   # as in \"father\"\n",
    "    \"EY\": \"high\",   # as in \"face\" (diphthong)\n",
    "    \"OW\": \"high\",  # as in \"goat\" (diphthong)\n",
    "    \"OY\": [\"mid\", \"high\"],  # as in \"choice\" (diphthong)\n",
    "    \"AW\": [\"low\", \"high\"],  # as in \"mouth\" (diphthong)\n",
    "    \"AY\": [\"low\", \"high\"],  # as in \"price\" (diphthong)\n",
    "}\n",
    "\n",
    "vowel_backness = {\n",
    "    \"IY\": \"front\",  # as in \"beat\"\n",
    "    \"EH\": \"front\",  # as in \"bet\"\n",
    "    \"AE\": \"front\",  # as in \"bat\"\n",
    "    \"IH\": \"front\",  # as in \"bit\"\n",
    "    \"AA\": \"back\",   # as in \"father\"\n",
    "    \"UW\": \"back\",   # as in \"goose\"\n",
    "    \"AO\": \"back\",   # as in \"thought\"\n",
    "    \"UH\": \"back\",   # as in \"foot\"\n",
    "    \"ER\": \"central\",  # as in \"nurse\" (rhotic)\n",
    "    \"AH\": \"central\",  # as in \"strut\"\n",
    "    \"AW\": [\"front\", \"back\"],   # as in \"mouth\" (diphthong, but starts back)\n",
    "    \"EY\": \"front\",  # as in \"face\" (diphthong, starts and ends in front)\n",
    "    \"AY\": \"front\",  # as in \"price\" (diphthong, starts and ends in front)\n",
    "    \"OW\": \"back\",   # as in \"goat\" (diphthong, starts and ends in back)\n",
    "    \"OY\": [\"back\", \"front\"]   # as in \"choice\" (diphthong, but starts back)\n",
    "}\n",
    "\n",
    "vowel_roundedness = {\n",
    "    \"UW\": \"rounded\",    # as in \"goose\"\n",
    "    \"UH\": \"rounded\",    # as in \"foot\"\n",
    "    \"AO\": \"rounded\",    # as in \"thought\"\n",
    "    \"IY\": \"unrounded\",  # as in \"beat\"\n",
    "    \"IH\": \"unrounded\",  # as in \"bit\"\n",
    "    \"EH\": \"unrounded\",  # as in \"bet\"\n",
    "    \"AE\": \"unrounded\",  # as in \"bat\"\n",
    "    \"AA\": \"unrounded\",  # as in \"father\"\n",
    "    \"ER\": \"unrounded\",  # as in \"nurse\" (rhotic)\n",
    "    \"AH\": \"unrounded\",  # as in \"strut\"\n",
    "    \"OW\": \"rounded\",    # as in \"goat\" (diphthong)\n",
    "    \"AW\": [\"unrounded\", \"rounded\"],    # as in \"mouth\" (diphthong)\n",
    "    \"AY\": \"unrounded\",  # as in \"price\" (diphthong)\n",
    "    \"EY\": \"unrounded\",  # as in \"face\" (diphthong)\n",
    "    \"OY\": [\"rounded\", \"unrounded\"]  # as in \"choice\" (diphthong, starts rounded)\n",
    "}"
   ]
  },
  {
   "cell_type": "code",
   "execution_count": 8,
   "metadata": {},
   "outputs": [
    {
     "name": "stdout",
     "output_type": "stream",
     "text": [
      "[[2, 1, 6, 0, 0, 0], [2, 8, 6, 0, 0, 0]]\n",
      "[[2, 0, 0, 2, 3, 2], [2, 0, 0, 1, 1, 1]]\n",
      "[2, 0, 0, 3, 3, 1]\n",
      "[0, 0, 0, 0, 0, 0]\n",
      "[1, 4, 1, 0, 0, 0]\n"
     ]
    }
   ],
   "source": [
    "def get_phoneme_features(phoneme):\n",
    "    '''\n",
    "    This function takes as input a phoneme and outputs a \n",
    "    6D articulatory feature of the following form:\n",
    "    \n",
    "    [voiced, place of articulation, manner of articulation, height, backness, roundedness]\n",
    "    \n",
    "    Some phonemes, such as diphthongs, have dynamic properties. For these phonemes, the \n",
    "    value of certain articulatory features is provided as a list with the start and end\n",
    "    position. Two articulatory feature vectors are returned for these phonemes,\n",
    "    one for the start position and one for the end position. \n",
    "    '''\n",
    "    \n",
    "    if phoneme == 'SIL':\n",
    "        return [0,0,0,0,0,0]\n",
    "    \n",
    "    # Define mappings from strings to integers\n",
    "    place_mapping = {\n",
    "        \"bilabial\": 1, \"labiodental\": 2, \"dental\": 3, \"alveolar\": 4, \"postalveolar\": 5, \n",
    "        \"retroflex\": 6, \"palatal\": 7, \"velar\": 8, \"glottal\": 9, 0: 0\n",
    "    }\n",
    "    \n",
    "    manner_mapping = {\n",
    "        \"plosive\": 1, \"fricative\": 2, \"affricate\": 3, \"nasal\": 4, \n",
    "        \"liquid\": 5, \"approximant\": 6, 0: 0\n",
    "    }\n",
    "    \n",
    "    height_mapping = {\n",
    "        \"high\": 1, \"mid\": 2, \"low\": 3, 0: 0\n",
    "    }\n",
    "    \n",
    "    backness_mapping = {\n",
    "        \"front\": 1, \"central\": 2, \"back\": 3, 0: 0\n",
    "    }\n",
    "    \n",
    "    roundedness_mapping = {\n",
    "        \"unrounded\": 1, \"rounded\": 2, 0: 0\n",
    "    }\n",
    "\n",
    "    # Voicing (1 = voiced, 0 = voiceless)\n",
    "    voiced = {\n",
    "        \"P\": 1, \"B\": 2, \"T\": 1, \"D\": 2, \"K\": 1, \"G\": 2, \"F\": 1, \"V\": 2,\n",
    "        \"TH\": 1, \"DH\": 2, \"S\": 1, \"Z\": 2, \"SH\": 1, \"ZH\": 2, \"CH\": 1, \"JH\": 2,\n",
    "        \"M\": 2, \"N\": 2, \"NG\": 2, \"L\": 2, \"R\": 2, \"W\": 2, \"Y\": 2, \"HH\": 1,\n",
    "        \"IY\": 2, \"IH\": 2, \"EH\": 2, \"AE\": 2, \"AA\": 2, \"UW\": 2, \"UH\": 2, \"AO\": 2,\n",
    "        \"OW\": 2, \"ER\": 2, \"AH\": 2, \"AW\": 2, \"AY\": 2, \"EY\": 2, \"OY\": 2, 0:0\n",
    "    }\n",
    "\n",
    "    # Function to convert lists to integer lists\n",
    "    def convert_to_int(value, mapping):\n",
    "        if isinstance(value, list):\n",
    "            return [mapping[v] for v in value]\n",
    "        return mapping[value]\n",
    "\n",
    "    # Feature dictionaries\n",
    "    place = {k: convert_to_int(v, place_mapping) for k, v in {\n",
    "        \"P\": \"bilabial\", \"B\": \"bilabial\", \"M\": \"bilabial\",\n",
    "        \"F\": \"labiodental\", \"V\": \"labiodental\",\n",
    "        \"TH\": \"dental\", \"DH\": \"dental\",\n",
    "        \"T\": \"alveolar\", \"D\": \"alveolar\", \"S\": \"alveolar\", \"Z\": \"alveolar\",\n",
    "        \"N\": \"alveolar\", \"L\": \"alveolar\",\n",
    "        \"SH\": \"postalveolar\", \"ZH\": \"postalveolar\", \"CH\": \"postalveolar\", \"JH\": \"postalveolar\",\n",
    "        \"R\": \"retroflex\",\n",
    "        \"K\": \"velar\", \"G\": \"velar\", \"NG\": \"velar\",\n",
    "        \"W\": [\"bilabial\", \"velar\"], \"Y\": \"palatal\", \"HH\": \"glottal\"\n",
    "    }.items()}\n",
    "\n",
    "    manner = {k: convert_to_int(v, manner_mapping) for k, v in {\n",
    "        \"P\": \"plosive\", \"B\": \"plosive\", \"T\": \"plosive\", \"D\": \"plosive\",\n",
    "        \"K\": \"plosive\", \"G\": \"plosive\",\n",
    "        \"F\": \"fricative\", \"V\": \"fricative\", \"TH\": \"fricative\", \"DH\": \"fricative\",\n",
    "        \"S\": \"fricative\", \"Z\": \"fricative\", \"SH\": \"fricative\", \"ZH\": \"fricative\",\n",
    "        \"HH\": \"fricative\",\n",
    "        \"CH\": \"affricate\", \"JH\": \"affricate\",\n",
    "        \"M\": \"nasal\", \"N\": \"nasal\", \"NG\": \"nasal\",\n",
    "        \"L\": \"approximant\", \"R\": \"approximant\",\n",
    "        \"W\": \"approximant\", \"Y\": \"approximant\"\n",
    "    }.items()}\n",
    "\n",
    "    height = {k: convert_to_int(v, height_mapping) for k, v in {\n",
    "        \"IY\": \"high\", \"IH\": \"high\", \"EH\": \"mid\", \"AE\": \"low\",\n",
    "        \"AA\": \"low\", \"UW\": \"high\", \"UH\": \"high\", \"AO\": \"mid\",\n",
    "        \"OW\": \"mid\", \"ER\": \"mid\", \"AH\": \"mid\",\n",
    "        \"AW\": [\"low\", \"mid\"], \"AY\": [\"low\", \"high\"], \"EY\": [\"mid\", \"high\"], \"OY\": [\"mid\", \"high\"]\n",
    "    }.items()}\n",
    "\n",
    "    backness = {k: convert_to_int(v, backness_mapping) for k, v in {\n",
    "        \"IY\": \"front\", \"IH\": \"front\", \"EH\": \"front\", \"AE\": \"front\",\n",
    "        \"AA\": \"back\", \"UW\": \"back\", \"UH\": \"back\", \"AO\": \"back\",\n",
    "        \"OW\": \"back\", \"ER\": \"central\", \"AH\": \"central\",\n",
    "        \"AW\": [\"back\", \"front\"], \"AY\": [\"front\", \"front\"], \"EY\": \"front\", \"OY\": [\"back\", \"front\"]\n",
    "    }.items()}\n",
    "\n",
    "    roundedness = {k: convert_to_int(v, roundedness_mapping) for k, v in {\n",
    "        \"IY\": \"unrounded\", \"IH\": \"unrounded\", \"EH\": \"unrounded\", \"AE\": \"unrounded\",\n",
    "        \"AA\": \"unrounded\", \"UW\": \"rounded\", \"UH\": \"rounded\", \"AO\": \"rounded\",\n",
    "        \"OW\": \"rounded\", \"ER\": \"unrounded\", \"AH\": \"unrounded\",\n",
    "        \"AW\": [\"unrounded\", \"rounded\"], \"AY\": \"unrounded\", \"EY\": \"unrounded\", \"OY\": [\"rounded\", \"unrounded\"]\n",
    "    }.items()}\n",
    "\n",
    "    # Construct vector(s)\n",
    "    properties = [voiced, place, manner, height, backness, roundedness]\n",
    "    values = [prop.get(phoneme, 0) for prop in properties]\n",
    "\n",
    "    # If any value is a list, return two vectors\n",
    "    if any(isinstance(v, list) for v in values):\n",
    "        return [list(v[i] if isinstance(v, list) else v for v in values) for i in range(2)]\n",
    "    else:\n",
    "        return values\n",
    "\n",
    "# Example usage:\n",
    "print(get_phoneme_features(\"W\"))   # Expecting two vectors due to dual place of articulation\n",
    "print(get_phoneme_features(\"OY\"))  # Expecting two vectors due to varying height, backness, and roundedness\n",
    "print(get_phoneme_features(\"AA\"))  # Expecting a single vector\n",
    "print(get_phoneme_features(\"SIL\"))  # Expecting a single vector\n",
    "print(get_phoneme_features(\"T\"))\n"
   ]
  },
  {
   "cell_type": "code",
   "execution_count": 29,
   "metadata": {},
   "outputs": [],
   "source": [
    "import numpy as np\n",
    "def convert_phonemes_to_articulatory(phoneme_list, maxSeqLen=500, to_pad = True):\n",
    "    \n",
    "    articulatory_feats_list = []\n",
    "    \n",
    "    for phoneme in phoneme_list:\n",
    "        \n",
    "        articulatory_feats = get_phoneme_features(phoneme)\n",
    "        \n",
    "        if type(articulatory_feats[0]) == list:\n",
    "            for a in articulatory_feats:\n",
    "                articulatory_feats_list.append(a)\n",
    "        else:\n",
    "            \n",
    "            articulatory_feats_list.append(articulatory_feats)\n",
    "        \n",
    "    stacked_feats = np.stack(articulatory_feats_list)\n",
    "\n",
    "    if not to_pad:\n",
    "        return stacked_feats.astype(np.int32)\n",
    "    \n",
    "    padded_array = np.zeros((maxSeqLen - stacked_feats.shape[0], stacked_feats.shape[1]))\n",
    "            \n",
    "    return np.vstack((stacked_feats, padded_array)).astype(np.int32)"
   ]
  },
  {
   "cell_type": "code",
   "execution_count": 24,
   "metadata": {},
   "outputs": [
    {
     "name": "stdout",
     "output_type": "stream",
     "text": [
      "[[2, 0, 0, 3, 3, 1], [2, 0, 0, 2, 3, 2], [2, 0, 0, 1, 1, 1]] [[2 0 0 3 3 1]\n",
      " [2 0 0 2 3 2]\n",
      " [2 0 0 1 1 1]]\n"
     ]
    }
   ],
   "source": [
    "AF = convert_phonemes_to_articulatory(['AA', 'OY'])"
   ]
  },
  {
   "cell_type": "code",
   "execution_count": 25,
   "metadata": {},
   "outputs": [
    {
     "name": "stdout",
     "output_type": "stream",
     "text": [
      "[[1, 4, 1, 0, 0, 0]] [[1 4 1 0 0 0]]\n"
     ]
    }
   ],
   "source": [
    "ph = convert_phonemes_to_articulatory(['T'])[0]"
   ]
  },
  {
   "cell_type": "code",
   "execution_count": 26,
   "metadata": {},
   "outputs": [
    {
     "name": "stdout",
     "output_type": "stream",
     "text": [
      "[1 4 1 0 0 0]\n"
     ]
    }
   ],
   "source": [
    "print(ph)"
   ]
  },
  {
   "cell_type": "code",
   "execution_count": null,
   "metadata": {},
   "outputs": [],
   "source": []
  },
  {
   "cell_type": "code",
   "execution_count": null,
   "metadata": {},
   "outputs": [],
   "source": []
  },
  {
   "cell_type": "code",
   "execution_count": null,
   "metadata": {},
   "outputs": [],
   "source": []
  },
  {
   "cell_type": "code",
   "execution_count": null,
   "metadata": {},
   "outputs": [],
   "source": [
    "import torch\n",
    "def find_possible_phonemes(logits):\n",
    "    best_prob = 0\n",
    "    best_phoneme = None\n",
    "    for phoneme in all_phonemes:\n",
    "        feats = convert_phonemes_to_articulatory(phoneme, maxSeqLen=1)\n",
    "        cur_prob = 1\n",
    "        for i in range(len(feats)):\n",
    "            cur_logits = torch.softmax(logits[i])\n",
    "            cur_prob *= cur_logits[feats[i]]\n",
    "        \n",
    "        if(cur_prob > best_prob):\n",
    "            best_prob = cur_prob \n",
    "            best_phoneme = phoneme\n",
    "\n",
    "    return best_phoneme"
   ]
  },
  {
   "cell_type": "code",
   "execution_count": null,
   "metadata": {},
   "outputs": [],
   "source": []
  },
  {
   "cell_type": "code",
   "execution_count": 2,
   "metadata": {},
   "outputs": [
    {
     "name": "stdout",
     "output_type": "stream",
     "text": [
      "31\n"
     ]
    }
   ],
   "source": [
    "print(sum([3, 10, 7, 4, 4, 3]))"
   ]
  },
  {
   "cell_type": "code",
   "execution_count": 4,
   "metadata": {},
   "outputs": [],
   "source": [
    "import numpy as np"
   ]
  },
  {
   "cell_type": "code",
   "execution_count": 9,
   "metadata": {},
   "outputs": [],
   "source": [
    "num_feat_list = [3, 10, 7, 4, 4, 3]\n"
   ]
  },
  {
   "cell_type": "code",
   "execution_count": 42,
   "metadata": {},
   "outputs": [
    {
     "ename": "IndexError",
     "evalue": "list assignment index out of range",
     "output_type": "error",
     "traceback": [
      "\u001b[0;31m---------------------------------------------------------------------------\u001b[0m",
      "\u001b[0;31mIndexError\u001b[0m                                Traceback (most recent call last)",
      "Cell \u001b[0;32mIn[42], line 13\u001b[0m\n\u001b[1;32m     11\u001b[0m list_art_feats \u001b[39m=\u001b[39m [\u001b[39m0\u001b[39m]\u001b[39m*\u001b[39m\u001b[39m31\u001b[39m\n\u001b[1;32m     12\u001b[0m \u001b[39mfor\u001b[39;00m feat \u001b[39min\u001b[39;00m \u001b[39mrange\u001b[39m(\u001b[39mlen\u001b[39m(feats)):\n\u001b[0;32m---> 13\u001b[0m     list_art_feats[val \u001b[39m+\u001b[39;49m feats[feat]] \u001b[39m=\u001b[39m \u001b[39m1\u001b[39m\n\u001b[1;32m     14\u001b[0m     val \u001b[39m+\u001b[39m\u001b[39m=\u001b[39m num_feat_list[feat] \u001b[39m+\u001b[39m \u001b[39m1\u001b[39m\n\u001b[1;32m     16\u001b[0m matrix\u001b[39m.\u001b[39mappend(list_art_feats)\n",
      "\u001b[0;31mIndexError\u001b[0m: list assignment index out of range"
     ]
    }
   ],
   "source": [
    "matrix = []\n",
    "corresponding_phonemes = []\n",
    "\n",
    "for phoneme in all_phonemes:\n",
    "    feat_list = convert_phonemes_to_articulatory([phoneme], to_pad=False)\n",
    "\n",
    "    for idx in range(len(feat_list)):\n",
    "        corresponding_phonemes.append(phoneme)\n",
    "        feats = feat_list[idx]\n",
    "        val = 0\n",
    "        list_art_feats = [0]*37\n",
    "        for feat in range(len(feats)):\n",
    "            list_art_feats[val + feats[feat]] = 1\n",
    "            val += num_feat_list[feat] + 1\n",
    "        \n",
    "        matrix.append(list_art_feats)"
   ]
  },
  {
   "cell_type": "code",
   "execution_count": 34,
   "metadata": {},
   "outputs": [],
   "source": [
    "matrix=  np.array(matrix)"
   ]
  },
  {
   "cell_type": "code",
   "execution_count": 38,
   "metadata": {},
   "outputs": [],
   "source": [
    "matrix = matrix.T"
   ]
  },
  {
   "cell_type": "code",
   "execution_count": 39,
   "metadata": {},
   "outputs": [
    {
     "name": "stdout",
     "output_type": "stream",
     "text": [
      "(31, 44)\n"
     ]
    }
   ],
   "source": [
    "print(matrix.shape)"
   ]
  },
  {
   "cell_type": "code",
   "execution_count": 41,
   "metadata": {},
   "outputs": [
    {
     "name": "stdout",
     "output_type": "stream",
     "text": [
      "44\n"
     ]
    }
   ],
   "source": [
    "print(len(corresponding_phonemes))"
   ]
  },
  {
   "cell_type": "code",
   "execution_count": null,
   "metadata": {},
   "outputs": [],
   "source": []
  }
 ],
 "metadata": {
  "kernelspec": {
   "display_name": "ML",
   "language": "python",
   "name": "python3"
  },
  "language_info": {
   "codemirror_mode": {
    "name": "ipython",
    "version": 3
   },
   "file_extension": ".py",
   "mimetype": "text/x-python",
   "name": "python",
   "nbconvert_exporter": "python",
   "pygments_lexer": "ipython3",
   "version": "3.9.21"
  },
  "orig_nbformat": 4
 },
 "nbformat": 4,
 "nbformat_minor": 2
}
